{
 "cells": [
  {
   "cell_type": "code",
   "execution_count": 1,
   "metadata": {},
   "outputs": [],
   "source": [
    "import pandas as pd\n",
    "from bs4 import BeautifulSoup\n",
    "from selenium import webdriver\n",
    "from selenium.webdriver.chrome.options import Options"
   ]
  },
  {
   "cell_type": "code",
   "execution_count": 2,
   "metadata": {},
   "outputs": [
    {
     "name": "stderr",
     "output_type": "stream",
     "text": [
      "C:\\Users\\DimasRN\\AppData\\Local\\Temp\\ipykernel_11284\\30301914.py:11: DeprecationWarning: executable_path has been deprecated, please pass in a Service object\n",
      "  driver = webdriver.Chrome(executable_path= path, options=chrome_options)\n"
     ]
    }
   ],
   "source": [
    "# Link digimap\n",
    "main_link = 'https://shopee.co.id/digimapofficial'\n",
    "path = 'D:\\DATA SCIENCE\\Portofolio\\Web Scraping - Selenium\\chromedriver.exe'\n",
    "\n",
    "# Customize chrome display\n",
    "chrome_options = Options()\n",
    "chrome_options.add_argument('--no-sandbox')\n",
    "chrome_options.add_argument('disable-notifications')\n",
    "chrome_options.add_argument('--disable-infobars')\n",
    "\n",
    "driver = webdriver.Chrome(executable_path= path, options=chrome_options)\n",
    "driver.get(main_link)\n"
   ]
  },
  {
   "cell_type": "code",
   "execution_count": 3,
   "metadata": {},
   "outputs": [],
   "source": [
    "html = driver.execute_script(\"return document.getElementsByTagName('html')[0].innerHTML\")\n",
    "soup = BeautifulSoup(html, \"html.parser\")"
   ]
  },
  {
   "cell_type": "code",
   "execution_count": 4,
   "metadata": {},
   "outputs": [
    {
     "data": {
      "text/plain": [
       "'Apple iPhone 11 64GB Black'"
      ]
     },
     "execution_count": 4,
     "metadata": {},
     "output_type": "execute_result"
    }
   ],
   "source": [
    "# Product \n",
    "product_name = soup.find_all('div',class_=\"_89o+uF mC2b-a d-wZla\")\n",
    "product_name[0].get_text()"
   ]
  },
  {
   "cell_type": "code",
   "execution_count": 5,
   "metadata": {},
   "outputs": [
    {
     "data": {
      "text/plain": [
       "'Rp7.249.000'"
      ]
     },
     "execution_count": 5,
     "metadata": {},
     "output_type": "execute_result"
    }
   ],
   "source": [
    "# product Price\n",
    "product_price = soup.find_all('div',class_=\"_1cMhqd tdQs-h\")\n",
    "product_price[0].get_text()"
   ]
  },
  {
   "cell_type": "code",
   "execution_count": 6,
   "metadata": {},
   "outputs": [
    {
     "data": {
      "text/plain": [
       "'5,1RB Terjual'"
      ]
     },
     "execution_count": 6,
     "metadata": {},
     "output_type": "execute_result"
    }
   ],
   "source": [
    "# Total Sold Product\n",
    "product_sold = soup.find_all('div',class_=\"r4l-mr R9rrSp\")\n",
    "product_sold[0].get_text()"
   ]
  },
  {
   "cell_type": "code",
   "execution_count": 7,
   "metadata": {},
   "outputs": [],
   "source": [
    "#LOOPING\n",
    "\n",
    "product_name, product_price, product_sold = [], [], []\n",
    "\n",
    "# Product Name\n",
    "for i in soup.find_all('div',class_=\"_89o+uF mC2b-a d-wZla\"):\n",
    "    product_name.append(i.text)\n",
    "\n",
    "# product Price\n",
    "for i in soup.find_all('div',class_=\"_1cMhqd tdQs-h\"):\n",
    "    product_price.append(i.text)\n",
    "\n",
    "# Total Sold Product\n",
    "for i in soup.find_all('div',class_=\"r4l-mr R9rrSp\"):\n",
    "    product_sold.append(i.text)"
   ]
  },
  {
   "cell_type": "code",
   "execution_count": 8,
   "metadata": {},
   "outputs": [],
   "source": [
    "# Many Pages\n",
    "product_name, product_price, product_sold = [], [], []\n",
    "\n",
    "\n",
    "for page in range(0,4):\n",
    "    main_link = 'https://shopee.co.id/digimapofficial?page={}1&sortBy=pop'.format(page)\n",
    "    driver.get(main_link)\n",
    "\n",
    "    # Product Name\n",
    "    for i in soup.find_all('div',class_=\"_89o+uF mC2b-a d-wZla\"):\n",
    "        product_name.append(i.text)\n",
    "\n",
    "    # product Price\n",
    "    for i in soup.find_all('div',class_=\"_1cMhqd tdQs-h\"):\n",
    "        product_price.append(i.text)\n",
    "\n",
    "    # Total Sold Product\n",
    "    for i in soup.find_all('div',class_=\"r4l-mr R9rrSp\"):\n",
    "        product_sold.append(i.text)"
   ]
  },
  {
   "cell_type": "code",
   "execution_count": 9,
   "metadata": {},
   "outputs": [
    {
     "data": {
      "text/plain": [
       "160"
      ]
     },
     "execution_count": 9,
     "metadata": {},
     "output_type": "execute_result"
    }
   ],
   "source": [
    "len(product_name)"
   ]
  },
  {
   "cell_type": "code",
   "execution_count": 10,
   "metadata": {},
   "outputs": [],
   "source": [
    "# Save Data\n",
    "listCols = ['product_name', 'product_price', 'product_sold']\n",
    "dict_data = dict(zip(\n",
    "    listCols, \n",
    "        (product_name,\n",
    "         product_price,\n",
    "         product_sold)\n",
    "))\n"
   ]
  },
  {
   "cell_type": "code",
   "execution_count": 11,
   "metadata": {},
   "outputs": [],
   "source": [
    "import json\n",
    "with open('digimam.json','w') as fp:\n",
    "    json.dump(dict_data, fp)"
   ]
  },
  {
   "cell_type": "code",
   "execution_count": 12,
   "metadata": {},
   "outputs": [
    {
     "data": {
      "text/html": [
       "<div>\n",
       "<style scoped>\n",
       "    .dataframe tbody tr th:only-of-type {\n",
       "        vertical-align: middle;\n",
       "    }\n",
       "\n",
       "    .dataframe tbody tr th {\n",
       "        vertical-align: top;\n",
       "    }\n",
       "\n",
       "    .dataframe thead th {\n",
       "        text-align: right;\n",
       "    }\n",
       "</style>\n",
       "<table border=\"1\" class=\"dataframe\">\n",
       "  <thead>\n",
       "    <tr style=\"text-align: right;\">\n",
       "      <th></th>\n",
       "      <th>product_name</th>\n",
       "      <th>product_price</th>\n",
       "      <th>product_sold</th>\n",
       "    </tr>\n",
       "  </thead>\n",
       "  <tbody>\n",
       "    <tr>\n",
       "      <th>0</th>\n",
       "      <td>Apple iPhone 11 64GB Black</td>\n",
       "      <td>Rp7.249.000</td>\n",
       "      <td>5,1RB Terjual</td>\n",
       "    </tr>\n",
       "    <tr>\n",
       "      <th>1</th>\n",
       "      <td>Apple iPhone 14 Pro Max 256GB Deep Purple</td>\n",
       "      <td>Rp22.499.000</td>\n",
       "      <td>230 Terjual</td>\n",
       "    </tr>\n",
       "    <tr>\n",
       "      <th>2</th>\n",
       "      <td>Apple iPhone 14 Pro 128GB Deep Purple</td>\n",
       "      <td>Rp18.499.000</td>\n",
       "      <td>263 Terjual</td>\n",
       "    </tr>\n",
       "    <tr>\n",
       "      <th>3</th>\n",
       "      <td>Apple iPhone 13 128GB Midnight</td>\n",
       "      <td>Rp12.499.000</td>\n",
       "      <td>845 Terjual</td>\n",
       "    </tr>\n",
       "    <tr>\n",
       "      <th>4</th>\n",
       "      <td>Apple iPhone 14 Pro Max 128GB Deep Purple</td>\n",
       "      <td>Rp20.499.000</td>\n",
       "      <td>315 Terjual</td>\n",
       "    </tr>\n",
       "  </tbody>\n",
       "</table>\n",
       "</div>"
      ],
      "text/plain": [
       "                                product_name product_price   product_sold\n",
       "0                 Apple iPhone 11 64GB Black   Rp7.249.000  5,1RB Terjual\n",
       "1  Apple iPhone 14 Pro Max 256GB Deep Purple  Rp22.499.000    230 Terjual\n",
       "2      Apple iPhone 14 Pro 128GB Deep Purple  Rp18.499.000    263 Terjual\n",
       "3             Apple iPhone 13 128GB Midnight  Rp12.499.000    845 Terjual\n",
       "4  Apple iPhone 14 Pro Max 128GB Deep Purple  Rp20.499.000    315 Terjual"
      ]
     },
     "execution_count": 12,
     "metadata": {},
     "output_type": "execute_result"
    }
   ],
   "source": [
    "df = pd.DataFrame(data = dict_data)\n",
    "df.head()"
   ]
  },
  {
   "cell_type": "code",
   "execution_count": 13,
   "metadata": {},
   "outputs": [],
   "source": [
    "df.to_csv('digimap.csv', index=False)"
   ]
  },
  {
   "cell_type": "code",
   "execution_count": null,
   "metadata": {},
   "outputs": [],
   "source": []
  }
 ],
 "metadata": {
  "kernelspec": {
   "display_name": "web_Scraping_selenium",
   "language": "python",
   "name": "python3"
  },
  "language_info": {
   "codemirror_mode": {
    "name": "ipython",
    "version": 3
   },
   "file_extension": ".py",
   "mimetype": "text/x-python",
   "name": "python",
   "nbconvert_exporter": "python",
   "pygments_lexer": "ipython3",
   "version": "3.11.3"
  },
  "orig_nbformat": 4
 },
 "nbformat": 4,
 "nbformat_minor": 2
}
